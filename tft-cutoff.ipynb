{
 "cells": [
  {
   "cell_type": "code",
   "execution_count": 3,
   "metadata": {},
   "outputs": [],
   "source": [
    "# This notebook is illustrating the python program 'tft-cutoff.py'\n",
    "# which is turn into a .exe windows application.\n",
    "import numpy as np\n",
    "import matplotlib.pyplot as plt"
   ]
  },
  {
   "cell_type": "code",
   "execution_count": 2,
   "metadata": {},
   "outputs": [
    {
     "data": {
      "text/plain": [
       "Text(0, 0.5, 'proportion (%)')"
      ]
     },
     "execution_count": 2,
     "metadata": {},
     "output_type": "execute_result"
    },
    {
     "data": {
      "image/png": "[encoded data removed]",
      "text/plain": [
       "<Figure size 432x288 with 1 Axes>"
      ]
     },
     "metadata": {
      "needs_background": "light"
     },
     "output_type": "display_data"
    }
   ],
   "source": [
    "N_joueurs = 32\n",
    "N_cutoff = 8\n",
    "N_game = 5\n",
    "points = np.arange(1,9)\n",
    "\n",
    "N_sample = 10000\n",
    "joueurs_par_game = 8\n",
    "N_lobby = N_joueurs//joueurs_par_game\n",
    "joueur_id = np.arange(N_joueurs)\n",
    "\n",
    "point_joueurs = np.zeros((N_sample,N_game,N_joueurs))\n",
    "\n",
    "rng = np.random.default_rng()\n",
    "lobby = rng.permuted(np.tile(joueur_id[np.newaxis,np.newaxis],\n",
    "                             (N_sample,N_game,1)), axis=2)\n",
    "chan, row, _ = np.indices((N_sample,N_game,N_joueurs))\n",
    "point_joueurs[chan,row,lobby] = np.tile(points,(N_sample,N_game,N_lobby))\n",
    "\n",
    "cut_off_point = np.sort(point_joueurs.sum(1))[:,::-1][:,N_cutoff-1]\n",
    "cut_off_point_m = cut_off_point.mean()\n",
    "cut_off_point_std = cut_off_point.std()\n",
    "\n",
    "points_possible = np.unique(cut_off_point)\n",
    "n_bins = points_possible.shape[0]\n",
    "count, _ = np.histogram(cut_off_point, bins=n_bins)\n",
    "points_possible = np.unique(cut_off_point)\n",
    "freq = 100*count/count.sum()\n",
    "fig, ax  = plt.subplots(1,1)\n",
    "ax.bar(points_possible,freq)\n",
    "ax.text(0.05,0.9,'ave. : %.2f pts'%(cut_off_point_m),\n",
    "        transform=ax.transAxes, fontsize=18)\n",
    "ax.text(0.55,0.9,'std : %.2f pts'%(cut_off_point_std),\n",
    "        transform=ax.transAxes, fontsize=18)\n",
    "ax.set_ylim(0, 1.25*freq.max())\n",
    "ax.set_xticks(points_possible)\n",
    "ax.tick_params(labelsize=16)\n",
    "ax.set_xlabel('points',fontsize=18)\n",
    "ax.set_ylabel('proportion (%)',fontsize=18, labelpad =10)"
   ]
  },
  {
   "cell_type": "code",
   "execution_count": null,
   "metadata": {},
   "outputs": [],
   "source": []
  }
 ],
 "metadata": {
  "kernelspec": {
   "display_name": "Python 3.8.8 ('base')",
   "language": "python",
   "name": "python3"
  },
  "language_info": {
   "codemirror_mode": {
    "name": "ipython",
    "version": 3
   },
   "file_extension": ".py",
   "mimetype": "text/x-python",
   "name": "python",
   "nbconvert_exporter": "python",
   "pygments_lexer": "ipython3",
   "version": "3.8.8"
  },
  "orig_nbformat": 4,
  "vscode": {
   "interpreter": {
    "hash": "08ad24eda6e1540c416cf1e80cda82ecc71dffbe9f421a1c37d7dfe0f6de28d6"
   }
  }
 },
 "nbformat": 4,
 "nbformat_minor": 2
}
